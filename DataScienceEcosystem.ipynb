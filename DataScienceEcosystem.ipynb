{
 "cells": [
  {
   "cell_type": "markdown",
   "id": "57321f5e",
   "metadata": {},
   "source": [
    "# Data Science Tools and Ecosystem\n"
   ]
  },
  {
   "cell_type": "markdown",
   "id": "f5b5cb33",
   "metadata": {},
   "source": [
    "In this notebook, Data Science Tools and Ecosystem are summarized."
   ]
  },
  {
   "cell_type": "markdown",
   "id": "90dab8bd",
   "metadata": {},
   "source": [
    "**Objectives:**\n",
    "*  Learn about popular data science languages\n",
    "*  Learn about popular data science tools\n",
    "*  Go over bais arithmitic expressions\n",
    "*  Explore Jupyter Notebook\n",
    "*  Go over GitHub\n"
   ]
  },
  {
   "cell_type": "markdown",
   "id": "606b3d84",
   "metadata": {},
   "source": [
    "## Author\n",
    "Jhon Dela Cruz"
   ]
  },
  {
   "cell_type": "markdown",
   "id": "cfe10922",
   "metadata": {},
   "source": [
    "Some of the popular languages that Data Scientists use are:\n",
    "1. Python\n",
    "2. R\n",
    "3. SQL"
   ]
  },
  {
   "cell_type": "markdown",
   "id": "58033650",
   "metadata": {},
   "source": [
    "Some of the commonly used libraries used by Data Scientists include:\n",
    "1. Pandas\n",
    "2. NumPy\n",
    "3. Matplotlib"
   ]
  },
  {
   "cell_type": "markdown",
   "id": "3878fa27",
   "metadata": {},
   "source": [
    "| Data Science Tools | \n",
    "| --- | \n",
    "| Jupyter Notebook | \n",
    "| R Studio| \n",
    "| MySQL | "
   ]
  },
  {
   "cell_type": "markdown",
   "id": "4c10c5d3",
   "metadata": {},
   "source": [
    "### Below are a few examples of evaluating arithmetic expressions in Python\n",
    "* '+' - addition\n",
    "* '-' - subtraction\n",
    "* '*' - multiplication\n",
    "* '/' - division"
   ]
  },
  {
   "cell_type": "code",
   "execution_count": 2,
   "id": "372d5799",
   "metadata": {},
   "outputs": [
    {
     "data": {
      "text/plain": [
       "17"
      ]
     },
     "execution_count": 2,
     "metadata": {},
     "output_type": "execute_result"
    }
   ],
   "source": [
    "# This a simple arithmetic expression to mutiply then add integers\n",
    "(3*4)+5"
   ]
  },
  {
   "cell_type": "code",
   "execution_count": 7,
   "id": "13ccd207",
   "metadata": {},
   "outputs": [
    {
     "data": {
      "text/plain": [
       "3.3333333333333335"
      ]
     },
     "execution_count": 7,
     "metadata": {},
     "output_type": "execute_result"
    }
   ],
   "source": [
    "#This will convert 200 minutes to hours by diving by 60\n",
    "\n",
    "minutes = 200\n",
    "\n",
    "hour_convertion = minutes/60\n",
    "\n",
    "hour_convertion"
   ]
  },
  {
   "cell_type": "code",
   "execution_count": null,
   "id": "46f755ea",
   "metadata": {},
   "outputs": [],
   "source": []
  }
 ],
 "metadata": {
  "kernelspec": {
   "display_name": "Python 3",
   "language": "python",
   "name": "python3"
  },
  "language_info": {
   "codemirror_mode": {
    "name": "ipython",
    "version": 3
   },
   "file_extension": ".py",
   "mimetype": "text/x-python",
   "name": "python",
   "nbconvert_exporter": "python",
   "pygments_lexer": "ipython3",
   "version": "3.8.8"
  }
 },
 "nbformat": 4,
 "nbformat_minor": 5
}
